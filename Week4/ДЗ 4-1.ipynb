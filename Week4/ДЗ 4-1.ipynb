{
 "cells": [
  {
   "cell_type": "markdown",
   "metadata": {},
   "source": [
    "Данное домашнее задание посвящено схеме базе данных, связанной с футбольным командами. Схема расположена в hw_diagram.jpg\n",
    "## Описание таблиц \n",
    "\n",
    "### Positions \n",
    "Позиции игроков\n",
    "id - уникальный идентификатор позиции \n",
    "Name - Название таблицы \n",
    "\n",
    "### Coaches \n",
    "Таблица тренеров \n",
    "id - уникальный идентификатор тренера\n",
    "Name - имя тренера \n",
    "\n",
    "## Teams \n",
    "Таблица команд \n",
    "id - уникальный идентификатор  команды \n",
    "Name - имя команды \n",
    "Location - расположение команды \n",
    "Coach_id - идентификатор тренера \n",
    "\n",
    "### Players \n",
    "Таблица игроков \n",
    "Id - уникальный идентификатор игрока \n",
    "Name - имя игрока \n",
    "Age - возраст игрока \n",
    "Position_id - идентификатор позиции \n",
    "Team_id - идентификатор команды \n",
    "Start_date - дата начала игры в команде \n",
    "\n",
    "### PlayersArchive \n",
    "Архив по игрокам (информация о том, в какой команде игрок играл ранее) \n",
    "player_id - идентификатор игрока \n",
    "team_id - идентификатор команды \n",
    "start_date - дата начала игры \n",
    "end_date - дата окончания игры"
   ]
  },
  {
   "cell_type": "code",
   "execution_count": 1,
   "metadata": {},
   "outputs": [
    {
     "data": {
      "text/plain": [
       "'Connected: None@chinook.db'"
      ]
     },
     "execution_count": 1,
     "metadata": {},
     "output_type": "execute_result"
    }
   ],
   "source": [
    "%load_ext sql\n",
    "%sql sqlite:///chinook.db"
   ]
  },
  {
   "cell_type": "markdown",
   "metadata": {},
   "source": [
    "# Задание 1\n",
    "Реализовать перенакатываемые sql-скрипты по схеме hw_diagram, приложенного ниже."
   ]
  },
  {
   "cell_type": "code",
   "execution_count": 2,
   "metadata": {},
   "outputs": [
    {
     "name": "stdout",
     "output_type": "stream",
     "text": [
      "Done.\n"
     ]
    },
    {
     "data": {
      "text/plain": [
       "[]"
      ]
     },
     "execution_count": 2,
     "metadata": {},
     "output_type": "execute_result"
    }
   ],
   "source": [
    "%%sql\n",
    "Pragma foreign_key=on;"
   ]
  },
  {
   "cell_type": "code",
   "execution_count": 3,
   "metadata": {},
   "outputs": [
    {
     "name": "stdout",
     "output_type": "stream",
     "text": [
      "Done.\n",
      "Done.\n",
      "Done.\n",
      "Done.\n",
      "Done.\n",
      "Done.\n",
      "Done.\n",
      "Done.\n",
      "Done.\n",
      "Done.\n"
     ]
    },
    {
     "data": {
      "text/plain": [
       "[]"
      ]
     },
     "execution_count": 3,
     "metadata": {},
     "output_type": "execute_result"
    }
   ],
   "source": [
    "%%sql\n",
    "\n",
    "drop table if exists coaches;\n",
    "\n",
    "CREATE TABLE coaches\n",
    "(\n",
    "id integer primary key,\n",
    "name varchar(100) \n",
    "); \n",
    "\n",
    "drop table if exists positions;\n",
    "\n",
    "CREATE TABLE positions\n",
    "(\n",
    "id integer primary key,\n",
    "name varchar(100) \n",
    "); \n",
    "\n",
    "drop table if exists playeesarchive;\n",
    "\n",
    "CREATE TABLE playeesarchive\n",
    "(\n",
    " player_id integer,\n",
    " team_id integer,\n",
    " stert_date date, \n",
    " end_date date   \n",
    "); \n",
    "\n",
    "drop table if exists teams;\n",
    "\n",
    "CREATE TABLE teams\n",
    "(\n",
    " id integer primary key,\n",
    " name varchar(100), \n",
    " location varchar(100), \n",
    " coach_id integer,\n",
    " foreign key (id) references playeesarchive(team_id),     \n",
    " foreign key (Coach_id) references coaches(id)   \n",
    "); \n",
    "\n",
    "drop table if exists players;\n",
    "\n",
    "CREATE TABLE players\n",
    "(\n",
    " id integer primary key,\n",
    " name varchar(100), \n",
    " age varchar(100), \n",
    " position_id integer,\n",
    " team_id integer,  \n",
    " start_date date,\n",
    " foreign key (id) references playeesarchive(player_id),     \n",
    " foreign key (position_id) references positions(id),     \n",
    " foreign key (team_id) references teams(id)\n",
    "); \n",
    "\n",
    "\n"
   ]
  },
  {
   "cell_type": "markdown",
   "metadata": {},
   "source": [
    "# Задание 2\n",
    "Написать sql-скрипт, осуществляюший добавление всех возможных позиций игроков. (В данной задаче можно ограничится четырьмя - вратарь, защитник, полузащитник, нападающий)"
   ]
  },
  {
   "cell_type": "code",
   "execution_count": 4,
   "metadata": {},
   "outputs": [
    {
     "name": "stdout",
     "output_type": "stream",
     "text": [
      "1 rows affected.\n",
      "1 rows affected.\n",
      "1 rows affected.\n",
      "1 rows affected.\n"
     ]
    },
    {
     "data": {
      "text/plain": [
       "[]"
      ]
     },
     "execution_count": 4,
     "metadata": {},
     "output_type": "execute_result"
    }
   ],
   "source": [
    "%%sql\n",
    "insert into positions values(1, \"goalkeeper\");\n",
    "insert into positions values(2, \"defender\");\n",
    "insert into positions values(3, \"midfielder\");\n",
    "insert into positions values(4, \"forward\");"
   ]
  },
  {
   "cell_type": "markdown",
   "metadata": {},
   "source": [
    "# Задание 3\n",
    "Написать функцию, осуществляющую добавление тренера. На вход функции подается имя тренера. При невозможности вставки функция должна обработать данное исключение и вывести пользователю информацию о проблеме\n",
    "\n",
    "После написания функции необходимо добавить несколько тренеров для таблицы."
   ]
  },
  {
   "cell_type": "code",
   "execution_count": 5,
   "metadata": {
    "collapsed": true
   },
   "outputs": [],
   "source": [
    "import sqlite3 # Импортируем библиотеку, соответствующую типу нашей базы данных SQLite\n",
    "db=sqlite3.connect('chinook.db') # Создаем соединение с нашей базой данных"
   ]
  },
  {
   "cell_type": "code",
   "execution_count": 6,
   "metadata": {
    "collapsed": true
   },
   "outputs": [],
   "source": [
    "\n",
    "def insert_trainer(name):\n",
    "# Создаем курсор - это специальный объект который делает запросы и получает их результаты\n",
    "    cur = db.cursor()\n",
    "    cur.execute( ''' SELECT COALESCE(MAX(id)+1,1) FROM Coaches ''') # запросим адрес послепоследней строки\n",
    "    ID = cur.fetchone()[0] # запишем в ID\n",
    "    t = bool(1)\n",
    "    try:\n",
    "        for i in range(len(name)):\n",
    "            name[i]>='1' and name[i]<='9'\n",
    "    except TypeError:\n",
    "        print('имя должно быть строкой str')\n",
    "        return -1        \n",
    "   \n",
    "    cur.execute(''' INSERT INTO coaches(id, name) values(?,?) ''', (ID, name))\n",
    "    db.commit() # Если мы не просто читаем, но и вносим изменения в базу данных - необходимо сохранить транзакцию\n",
    "# Не забываем закрыть соединение с базой данных\n",
    "#db.close()"
   ]
  },
  {
   "cell_type": "code",
   "execution_count": 7,
   "metadata": {
    "collapsed": true
   },
   "outputs": [],
   "source": [
    "insert_trainer(\"Виктор Иванов\")\n",
    "insert_trainer(\"Зинедин Зидан\")"
   ]
  },
  {
   "cell_type": "code",
   "execution_count": 8,
   "metadata": {},
   "outputs": [
    {
     "name": "stdout",
     "output_type": "stream",
     "text": [
      "имя должно быть строкой str\n"
     ]
    },
    {
     "data": {
      "text/plain": [
       "-1"
      ]
     },
     "execution_count": 8,
     "metadata": {},
     "output_type": "execute_result"
    }
   ],
   "source": [
    "insert_trainer(123)"
   ]
  },
  {
   "cell_type": "code",
   "execution_count": 9,
   "metadata": {},
   "outputs": [
    {
     "name": "stdout",
     "output_type": "stream",
     "text": [
      "Done.\n"
     ]
    },
    {
     "data": {
      "text/html": [
       "<table>\n",
       "    <tr>\n",
       "        <th>id</th>\n",
       "        <th>name</th>\n",
       "    </tr>\n",
       "    <tr>\n",
       "        <td>1</td>\n",
       "        <td>Виктор Иванов</td>\n",
       "    </tr>\n",
       "    <tr>\n",
       "        <td>2</td>\n",
       "        <td>Зинедин Зидан</td>\n",
       "    </tr>\n",
       "</table>"
      ],
      "text/plain": [
       "[(1, 'Виктор Иванов'), (2, 'Зинедин Зидан')]"
      ]
     },
     "execution_count": 9,
     "metadata": {},
     "output_type": "execute_result"
    }
   ],
   "source": [
    "%%sql\n",
    "SELECT * FROM Coaches"
   ]
  },
  {
   "cell_type": "markdown",
   "metadata": {},
   "source": [
    "# Задание 4\n",
    "\n",
    "Написать функцию, осуществляющую добавление команды. На вход функция принимает (имя команды, местоположение, имя тренера).\n",
    "На выходе должна быть добавлена команда.\n",
    "\n",
    "После написания функции необходимо добавить несколько команд"
   ]
  },
  {
   "cell_type": "code",
   "execution_count": 10,
   "metadata": {
    "collapsed": true
   },
   "outputs": [],
   "source": [
    "import sqlite3\n",
    "db=sqlite3.connect('chinook.db')\n",
    "def insert_teams(name, location, coach_name):\n",
    "    cur = db.cursor()\n",
    "    cur.execute( ''' SELECT COALESCE(MAX(id)+1, 1) FROM Teams ''')\n",
    "    i = cur.fetchone()[0]\n",
    "    cur.execute('''SELECT coaches.id FROM coaches WHERE coaches.name=? ''', (coach_name,)) # запросим id с нужным именем\n",
    "    coach_id = cur.fetchone()[0]\n",
    "    cur.execute(''' INSERT INTO teams(id, name, location, coach_id) VALUES(?,?,?,?)''', (i, name, location, coach_id,))\n",
    "    db.commit()"
   ]
  },
  {
   "cell_type": "code",
   "execution_count": 11,
   "metadata": {
    "collapsed": true
   },
   "outputs": [],
   "source": [
    "insert_teams('Локомотив','Москва','Виктор Иванов');\n",
    "insert_teams('Зенит','Санкт-Петербург','Зинедин Зидан');"
   ]
  },
  {
   "cell_type": "code",
   "execution_count": 12,
   "metadata": {},
   "outputs": [
    {
     "name": "stdout",
     "output_type": "stream",
     "text": [
      "Done.\n"
     ]
    },
    {
     "data": {
      "text/html": [
       "<table>\n",
       "    <tr>\n",
       "        <th>id</th>\n",
       "        <th>name</th>\n",
       "        <th>location</th>\n",
       "        <th>coach_id</th>\n",
       "    </tr>\n",
       "    <tr>\n",
       "        <td>1</td>\n",
       "        <td>Локомотив</td>\n",
       "        <td>Москва</td>\n",
       "        <td>1</td>\n",
       "    </tr>\n",
       "    <tr>\n",
       "        <td>2</td>\n",
       "        <td>Зенит</td>\n",
       "        <td>Санкт-Петербург</td>\n",
       "        <td>2</td>\n",
       "    </tr>\n",
       "</table>"
      ],
      "text/plain": [
       "[(1, 'Локомотив', 'Москва', 1), (2, 'Зенит', 'Санкт-Петербург', 2)]"
      ]
     },
     "execution_count": 12,
     "metadata": {},
     "output_type": "execute_result"
    }
   ],
   "source": [
    "%%sql\n",
    "SELECT * FROM Teams"
   ]
  },
  {
   "cell_type": "markdown",
   "metadata": {},
   "source": [
    "# Задание 5\n",
    "\n",
    "Написать функцию, осуществляющую обновление информации о команде. У функции на входе должен быть один обязательный параметр - название команды и два необязательных параметра - имя тренера и местоположение. При этом хотя бы один из необязательных параметров должен быть заполнен. Функция должна обновлять значение переданных необязательных параметров.\n",
    "\n",
    "После написания функции вызовите данную функцию несколько раз"
   ]
  },
  {
   "cell_type": "code",
   "execution_count": 13,
   "metadata": {
    "collapsed": true
   },
   "outputs": [],
   "source": [
    "insert_teams('Бешикташ','Москва','Виктор Иванов');"
   ]
  },
  {
   "cell_type": "code",
   "execution_count": 14,
   "metadata": {
    "collapsed": true
   },
   "outputs": [],
   "source": [
    "insert_trainer(\"Турк Укроп\")"
   ]
  },
  {
   "cell_type": "code",
   "execution_count": 17,
   "metadata": {
    "collapsed": true
   },
   "outputs": [],
   "source": [
    "import sqlite3\n",
    "db=sqlite3.connect('chinook.db')\n",
    "def update_team(name, location=None, coach_name=None): # начальные значения места и имени нулевые\n",
    "    cur = db.cursor()\n",
    "    if(location == None and coach_name == None):  # если информации нет, то ничего и не обновляем\n",
    "        return;\n",
    "    if(location == None and coach_name != None):  # если есть имя тренера\n",
    "        cur.execute('''select Coaches.id from Coaches where Coaches.name=? ''', (coach_name,)) #из таблицы тренеров получим нужный \n",
    "        c_id = cur.fetchone()[0]                                                           # id тренера\n",
    "        cur.execute('''Update Teams set coach_id = ? where name = ?''', (c_id, name)) # вызовем update функцию, которая обновит\n",
    "    if(location != None and coach_name == None):                                      # присвоит индексу новое имя\n",
    "        cur.execute('''Update Teams set location = ? where name = ?''', (location, name)) #  прямая замена места\n",
    "    if(location != None and coach_name != None):\n",
    "        cur.execute('''SELECT Coaches.id FROM Coaches WHERE Coaches.Name=? ''', (coach_name,))\n",
    "        c_id = cur.fetchone()[0]\n",
    "        cur.execute('''Update Teams set coach_id = ? where name = ?''', (c_id, name,))\n",
    "        cur.execute('''Update Teams set location = ? where name = ?''', (location, name,))\n",
    "    db.commit()"
   ]
  },
  {
   "cell_type": "code",
   "execution_count": 15,
   "metadata": {},
   "outputs": [
    {
     "name": "stdout",
     "output_type": "stream",
     "text": [
      "Done.\n"
     ]
    },
    {
     "data": {
      "text/html": [
       "<table>\n",
       "    <tr>\n",
       "        <th>id</th>\n",
       "        <th>name</th>\n",
       "        <th>location</th>\n",
       "        <th>coach_id</th>\n",
       "    </tr>\n",
       "    <tr>\n",
       "        <td>1</td>\n",
       "        <td>Локомотив</td>\n",
       "        <td>Москва</td>\n",
       "        <td>1</td>\n",
       "    </tr>\n",
       "    <tr>\n",
       "        <td>2</td>\n",
       "        <td>Зенит</td>\n",
       "        <td>Санкт-Петербург</td>\n",
       "        <td>2</td>\n",
       "    </tr>\n",
       "    <tr>\n",
       "        <td>3</td>\n",
       "        <td>Бешикташ</td>\n",
       "        <td>Москва</td>\n",
       "        <td>1</td>\n",
       "    </tr>\n",
       "</table>"
      ],
      "text/plain": [
       "[(1, 'Локомотив', 'Москва', 1),\n",
       " (2, 'Зенит', 'Санкт-Петербург', 2),\n",
       " (3, 'Бешикташ', 'Москва', 1)]"
      ]
     },
     "execution_count": 15,
     "metadata": {},
     "output_type": "execute_result"
    }
   ],
   "source": [
    "%%sql\n",
    "SELECT * FROM Teams"
   ]
  },
  {
   "cell_type": "code",
   "execution_count": 18,
   "metadata": {
    "collapsed": true
   },
   "outputs": [],
   "source": [
    "update_team(\"Бешикташ\", \"Станбул\", \"Турк Укроп\")"
   ]
  },
  {
   "cell_type": "code",
   "execution_count": 19,
   "metadata": {
    "collapsed": true
   },
   "outputs": [],
   "source": [
    "update_team(\"Локомотив\", \"Барселона\")"
   ]
  },
  {
   "cell_type": "code",
   "execution_count": 20,
   "metadata": {},
   "outputs": [
    {
     "name": "stdout",
     "output_type": "stream",
     "text": [
      "Done.\n"
     ]
    },
    {
     "data": {
      "text/html": [
       "<table>\n",
       "    <tr>\n",
       "        <th>id</th>\n",
       "        <th>name</th>\n",
       "        <th>location</th>\n",
       "        <th>coach_id</th>\n",
       "    </tr>\n",
       "    <tr>\n",
       "        <td>1</td>\n",
       "        <td>Локомотив</td>\n",
       "        <td>Барселона</td>\n",
       "        <td>1</td>\n",
       "    </tr>\n",
       "    <tr>\n",
       "        <td>2</td>\n",
       "        <td>Зенит</td>\n",
       "        <td>Санкт-Петербург</td>\n",
       "        <td>2</td>\n",
       "    </tr>\n",
       "    <tr>\n",
       "        <td>3</td>\n",
       "        <td>Бешикташ</td>\n",
       "        <td>Станбул</td>\n",
       "        <td>3</td>\n",
       "    </tr>\n",
       "</table>"
      ],
      "text/plain": [
       "[(1, 'Локомотив', 'Барселона', 1),\n",
       " (2, 'Зенит', 'Санкт-Петербург', 2),\n",
       " (3, 'Бешикташ', 'Станбул', 3)]"
      ]
     },
     "execution_count": 20,
     "metadata": {},
     "output_type": "execute_result"
    }
   ],
   "source": [
    "%%sql\n",
    "SELECT * FROM Teams"
   ]
  },
  {
   "cell_type": "markdown",
   "metadata": {},
   "source": [
    "# Задание 6\n",
    "\n",
    "Написать функцию, осуществляющую добавление нового футболиста в таблицу игроков. На входе (имя, возраст, название позиции, название команды, дата перехода в команду(необязательный параметр)). Если дата перехода не указана, то нужно использовать текущую дату. Предусмотреть различные ошибки (такие как неверное имя позиции, неверное название команды, возраст < 10 и > 50 и т.п.)\n",
    "\n",
    "После написания функции необходимо добавить несколько игроков."
   ]
  },
  {
   "cell_type": "code",
   "execution_count": 21,
   "metadata": {
    "collapsed": true
   },
   "outputs": [],
   "source": [
    "import sqlite3\n",
    "db=sqlite3.connect('chinook.db')\n",
    "def insert_players(name, age, position, team, start_date=None): \n",
    "    cur = db.cursor() \n",
    "    cur.execute( '''select COALESCE(MAX(id)+1, 1) FROM players''') \n",
    "    try: \n",
    "        ID = cur.fetchone()[0] \n",
    "        cur.execute( ''' select id from positions where name=? ''', (position,)); \n",
    "        position_id = cur.fetchone()[0]; \n",
    "        cur.execute( ''' select id from teams where name=? ''', (team,)); \n",
    "        team_id = cur.fetchone()[0];\n",
    "        cur.execute( ''' select id from positions ''');\n",
    "        pos = cur.fetchall();\n",
    "        if start_date==None: \n",
    "            cur.execute( ''' select DATE (CURRENT_DATE) ''' ) \n",
    "            start_date=cur.fetchone()[0]; \n",
    "        if ((position_id,) in pos and (age>10) and (age < 50)): \n",
    "            cur.execute(\"\"\"insert into players(id,name, age,position_id,team_id, start_date ) VALUES(?,?,?,?,?,?)\"\"\", (ID,name,age, position_id,team_id, start_date)) \n",
    "        else: \n",
    "            print(\"Error1\") \n",
    "        db.commit() \n",
    "    except TypeError: \n",
    "        print(\"Error2\")"
   ]
  },
  {
   "cell_type": "code",
   "execution_count": 22,
   "metadata": {
    "collapsed": true
   },
   "outputs": [],
   "source": [
    "insert_players(\"Ашот Ибрагимович\", 31, \"goalkeeper\", \"Зенит\")\n"
   ]
  },
  {
   "cell_type": "code",
   "execution_count": 23,
   "metadata": {
    "scrolled": true
   },
   "outputs": [
    {
     "name": "stdout",
     "output_type": "stream",
     "text": [
      "Done.\n"
     ]
    },
    {
     "data": {
      "text/html": [
       "<table>\n",
       "    <tr>\n",
       "        <th>id</th>\n",
       "        <th>name</th>\n",
       "        <th>age</th>\n",
       "        <th>position_id</th>\n",
       "        <th>team_id</th>\n",
       "        <th>start_date</th>\n",
       "    </tr>\n",
       "    <tr>\n",
       "        <td>1</td>\n",
       "        <td>Ашот Ибрагимович</td>\n",
       "        <td>31</td>\n",
       "        <td>1</td>\n",
       "        <td>2</td>\n",
       "        <td>2018-05-26</td>\n",
       "    </tr>\n",
       "</table>"
      ],
      "text/plain": [
       "[(1, 'Ашот Ибрагимович', '31', 1, 2, '2018-05-26')]"
      ]
     },
     "execution_count": 23,
     "metadata": {},
     "output_type": "execute_result"
    }
   ],
   "source": [
    "%%sql\n",
    "SELECT * FROM PLAYERS"
   ]
  },
  {
   "cell_type": "code",
   "execution_count": 24,
   "metadata": {
    "collapsed": true
   },
   "outputs": [],
   "source": [
    "insert_players(\"Александр Овечкин\", 20, \"forward\", \"Локомотив\")"
   ]
  },
  {
   "cell_type": "code",
   "execution_count": 25,
   "metadata": {
    "collapsed": true
   },
   "outputs": [],
   "source": [
    "insert_players(\"Антон Макаревич\", 25, \"defender\", \"Локомотив\", 1995-11-27)"
   ]
  },
  {
   "cell_type": "code",
   "execution_count": 26,
   "metadata": {},
   "outputs": [
    {
     "name": "stdout",
     "output_type": "stream",
     "text": [
      "Done.\n"
     ]
    },
    {
     "data": {
      "text/html": [
       "<table>\n",
       "    <tr>\n",
       "        <th>id</th>\n",
       "        <th>name</th>\n",
       "        <th>age</th>\n",
       "        <th>position_id</th>\n",
       "        <th>team_id</th>\n",
       "        <th>start_date</th>\n",
       "    </tr>\n",
       "    <tr>\n",
       "        <td>1</td>\n",
       "        <td>Ашот Ибрагимович</td>\n",
       "        <td>31</td>\n",
       "        <td>1</td>\n",
       "        <td>2</td>\n",
       "        <td>2018-05-26</td>\n",
       "    </tr>\n",
       "    <tr>\n",
       "        <td>2</td>\n",
       "        <td>Александр Овечкин</td>\n",
       "        <td>20</td>\n",
       "        <td>4</td>\n",
       "        <td>1</td>\n",
       "        <td>2018-05-26</td>\n",
       "    </tr>\n",
       "    <tr>\n",
       "        <td>3</td>\n",
       "        <td>Антон Макаревич</td>\n",
       "        <td>25</td>\n",
       "        <td>2</td>\n",
       "        <td>1</td>\n",
       "        <td>1957</td>\n",
       "    </tr>\n",
       "</table>"
      ],
      "text/plain": [
       "[(1, 'Ашот Ибрагимович', '31', 1, 2, '2018-05-26'),\n",
       " (2, 'Александр Овечкин', '20', 4, 1, '2018-05-26'),\n",
       " (3, 'Антон Макаревич', '25', 2, 1, 1957)]"
      ]
     },
     "execution_count": 26,
     "metadata": {},
     "output_type": "execute_result"
    }
   ],
   "source": [
    "%%sql\n",
    "SELECT * FROM PLAYERS"
   ]
  },
  {
   "cell_type": "markdown",
   "metadata": {},
   "source": [
    "# Задание 7\n",
    "Написать функцию для перевода игрока в другую команду. Данная функция должна осуществить архивирование текущей записи в таблице игроков в таблицу players_archive с заполнение end_date - датой начала игры за новую команду - 1 день. А также осуществлять изменение поля в таблице Players. При возникновении ошибки должен осуществляться полный откат транзакции."
   ]
  },
  {
   "cell_type": "code",
   "execution_count": 35,
   "metadata": {
    "collapsed": true
   },
   "outputs": [],
   "source": [
    "import sqlite3\n",
    "db=sqlite3.connect('chinook.db')\n",
    "def update_players(name, new_team, date): \n",
    "    cur = db.cursor() \n",
    "    cur.execute( '''select DATE(?, '-1 day')''',(date,)) \n",
    "    try: \n",
    "        d=cur.fetchone()[0] \n",
    "        cur.execute( '''select team_id from players where name=?''',(name,)) \n",
    "        t= cur.fetchone()[0] \n",
    "        cur.execute( '''select id from players where name=?''',(name,)) \n",
    "        ID= cur.fetchone()[0] \n",
    "        cur.execute('''Update playeesarchive set end_date = ? where player_id = ? and team_id =?''', (d, ID, t,)) \n",
    "        db.commit()\n",
    "        cur.execute( '''select id from teams where name=?''',(new_team,)) \n",
    "        tn= cur.fetchone()[0] \n",
    "        cur.execute ('''Update players set team_id = ?, start_date=? where name = ?''', (tn, date, name)) \n",
    "        cur.execute(''' insert into playeesarchive (player_id, team_id, stert_date, end_date ) VALUES(?,?,?,?)''', (ID,tn,date,'')) \n",
    "        db.commit() \n",
    "    except TypeError: \n",
    "        print(\"Error\") \n",
    "        db.rollback()"
   ]
  },
  {
   "cell_type": "code",
   "execution_count": 43,
   "metadata": {
    "collapsed": true
   },
   "outputs": [],
   "source": [
    "update_players(\"Ашот Ибрагимович\", \"Локомотив\", \"1995-11-27\")"
   ]
  },
  {
   "cell_type": "code",
   "execution_count": 44,
   "metadata": {},
   "outputs": [
    {
     "name": "stdout",
     "output_type": "stream",
     "text": [
      "Done.\n"
     ]
    },
    {
     "data": {
      "text/html": [
       "<table>\n",
       "    <tr>\n",
       "        <th>id</th>\n",
       "        <th>name</th>\n",
       "        <th>age</th>\n",
       "        <th>position_id</th>\n",
       "        <th>team_id</th>\n",
       "        <th>start_date</th>\n",
       "    </tr>\n",
       "    <tr>\n",
       "        <td>1</td>\n",
       "        <td>Ашот Ибрагимович</td>\n",
       "        <td>31</td>\n",
       "        <td>1</td>\n",
       "        <td>1</td>\n",
       "        <td>1995-11-27</td>\n",
       "    </tr>\n",
       "    <tr>\n",
       "        <td>2</td>\n",
       "        <td>Александр Овечкин</td>\n",
       "        <td>20</td>\n",
       "        <td>4</td>\n",
       "        <td>2</td>\n",
       "        <td>1999-01-01</td>\n",
       "    </tr>\n",
       "    <tr>\n",
       "        <td>3</td>\n",
       "        <td>Антон Макаревич</td>\n",
       "        <td>25</td>\n",
       "        <td>2</td>\n",
       "        <td>1</td>\n",
       "        <td>1957</td>\n",
       "    </tr>\n",
       "</table>"
      ],
      "text/plain": [
       "[(1, 'Ашот Ибрагимович', '31', 1, 1, '1995-11-27'),\n",
       " (2, 'Александр Овечкин', '20', 4, 2, '1999-01-01'),\n",
       " (3, 'Антон Макаревич', '25', 2, 1, 1957)]"
      ]
     },
     "execution_count": 44,
     "metadata": {},
     "output_type": "execute_result"
    }
   ],
   "source": [
    "%%sql\n",
    "SELECT * FROM PLAYERS"
   ]
  },
  {
   "cell_type": "code",
   "execution_count": 40,
   "metadata": {
    "collapsed": true
   },
   "outputs": [],
   "source": [
    "update_players(\"Александр Овечкин\", \"Зенит\", \"1999-01-01\")"
   ]
  },
  {
   "cell_type": "code",
   "execution_count": 41,
   "metadata": {},
   "outputs": [
    {
     "name": "stdout",
     "output_type": "stream",
     "text": [
      "Done.\n"
     ]
    },
    {
     "data": {
      "text/html": [
       "<table>\n",
       "    <tr>\n",
       "        <th>id</th>\n",
       "        <th>name</th>\n",
       "        <th>age</th>\n",
       "        <th>position_id</th>\n",
       "        <th>team_id</th>\n",
       "        <th>start_date</th>\n",
       "    </tr>\n",
       "    <tr>\n",
       "        <td>1</td>\n",
       "        <td>Ашот Ибрагимович</td>\n",
       "        <td>31</td>\n",
       "        <td>1</td>\n",
       "        <td>1</td>\n",
       "        <td>1957</td>\n",
       "    </tr>\n",
       "    <tr>\n",
       "        <td>2</td>\n",
       "        <td>Александр Овечкин</td>\n",
       "        <td>20</td>\n",
       "        <td>4</td>\n",
       "        <td>2</td>\n",
       "        <td>1999-01-01</td>\n",
       "    </tr>\n",
       "    <tr>\n",
       "        <td>3</td>\n",
       "        <td>Антон Макаревич</td>\n",
       "        <td>25</td>\n",
       "        <td>2</td>\n",
       "        <td>1</td>\n",
       "        <td>1957</td>\n",
       "    </tr>\n",
       "</table>"
      ],
      "text/plain": [
       "[(1, 'Ашот Ибрагимович', '31', 1, 1, 1957),\n",
       " (2, 'Александр Овечкин', '20', 4, 2, '1999-01-01'),\n",
       " (3, 'Антон Макаревич', '25', 2, 1, 1957)]"
      ]
     },
     "execution_count": 41,
     "metadata": {},
     "output_type": "execute_result"
    }
   ],
   "source": [
    "%%sql\n",
    "SELECT * FROM PLAYERS"
   ]
  },
  {
   "cell_type": "code",
   "execution_count": 45,
   "metadata": {},
   "outputs": [
    {
     "name": "stdout",
     "output_type": "stream",
     "text": [
      "Done.\n"
     ]
    },
    {
     "data": {
      "text/html": [
       "<table>\n",
       "    <tr>\n",
       "        <th>player_id</th>\n",
       "        <th>team_id</th>\n",
       "        <th>stert_date</th>\n",
       "        <th>end_date</th>\n",
       "    </tr>\n",
       "    <tr>\n",
       "        <td>1</td>\n",
       "        <td>1</td>\n",
       "        <td>1957</td>\n",
       "        <td>1995-11-26</td>\n",
       "    </tr>\n",
       "    <tr>\n",
       "        <td>2</td>\n",
       "        <td>2</td>\n",
       "        <td>1999-01-01</td>\n",
       "        <td></td>\n",
       "    </tr>\n",
       "    <tr>\n",
       "        <td>1</td>\n",
       "        <td>1</td>\n",
       "        <td>1995-11-27</td>\n",
       "        <td></td>\n",
       "    </tr>\n",
       "</table>"
      ],
      "text/plain": [
       "[(1, 1, 1957, '1995-11-26'),\n",
       " (2, 2, '1999-01-01', ''),\n",
       " (1, 1, '1995-11-27', '')]"
      ]
     },
     "execution_count": 45,
     "metadata": {},
     "output_type": "execute_result"
    }
   ],
   "source": [
    "%%sql\n",
    "SELECT * FROM playeesarchive"
   ]
  },
  {
   "cell_type": "code",
   "execution_count": null,
   "metadata": {
    "collapsed": true
   },
   "outputs": [],
   "source": []
  }
 ],
 "metadata": {
  "kernelspec": {
   "display_name": "Python 3",
   "language": "python",
   "name": "python3"
  },
  "language_info": {
   "codemirror_mode": {
    "name": "ipython",
    "version": 3
   },
   "file_extension": ".py",
   "mimetype": "text/x-python",
   "name": "python",
   "nbconvert_exporter": "python",
   "pygments_lexer": "ipython3",
   "version": "3.6.2"
  }
 },
 "nbformat": 4,
 "nbformat_minor": 2
}
