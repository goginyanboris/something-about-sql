{
 "cells": [
  {
   "cell_type": "markdown",
   "metadata": {},
   "source": [
    "Осуществим подключение к бд"
   ]
  },
  {
   "cell_type": "code",
   "execution_count": 1,
   "metadata": {},
   "outputs": [
    {
     "data": {
      "text/plain": [
       "'Connected: None@lab_2.db'"
      ]
     },
     "execution_count": 1,
     "metadata": {},
     "output_type": "execute_result"
    }
   ],
   "source": [
    "%load_ext sql\n",
    "%sql sqlite:///lab_2.db"
   ]
  },
  {
   "cell_type": "markdown",
   "metadata": {
    "collapsed": true
   },
   "source": [
    "Создадим таблицу студентов, групп, городов и факультетов"
   ]
  },
  {
   "cell_type": "code",
   "execution_count": 2,
   "metadata": {},
   "outputs": [
    {
     "name": "stdout",
     "output_type": "stream",
     "text": [
      "Done.\n",
      "Done.\n",
      "Done.\n",
      "Done.\n",
      "Done.\n",
      "Done.\n",
      "Done.\n",
      "Done.\n"
     ]
    },
    {
     "data": {
      "text/plain": [
       "[]"
      ]
     },
     "execution_count": 2,
     "metadata": {},
     "output_type": "execute_result"
    }
   ],
   "source": [
    "%%sql \n",
    "drop table if exists Students;\n",
    "\n",
    "CREATE TABLE Students \n",
    "(\n",
    "    student_id integer primary key, \n",
    "    Name varchar(50),\n",
    "    SecondName varchar(50), \n",
    "    Faculty_id integer,\n",
    "    city_id integer,\n",
    "    group_id integer\n",
    "    GPA number\n",
    ");\n",
    "\n",
    "drop table if exists Faculties;\n",
    "CREATE TABLE Faculties\n",
    "(\n",
    "id integer primary key,\n",
    "name varchar(50)\n",
    ");\n",
    "\n",
    "drop table if exists Groups; \n",
    "\n",
    "Create table Groups\n",
    "(\n",
    "\n",
    "    id integer primary key,\n",
    "name varchar(50)\n",
    ");\n",
    "\n",
    "drop table if exists Cities; \n",
    "\n",
    "Create table Cities\n",
    "(\n",
    "id integer primary key,\n",
    "name varchar(50)\n",
    ");\n",
    "\n"
   ]
  },
  {
   "cell_type": "markdown",
   "metadata": {},
   "source": [
    "## Задание 1 \n",
    "Перепишите создание таблиц с учетом наличия внешних ключей"
   ]
  },
  {
   "cell_type": "code",
   "execution_count": 3,
   "metadata": {
    "scrolled": true
   },
   "outputs": [
    {
     "name": "stdout",
     "output_type": "stream",
     "text": [
      "0 rows affected.\n"
     ]
    },
    {
     "data": {
      "text/plain": [
       "[]"
      ]
     },
     "execution_count": 3,
     "metadata": {},
     "output_type": "execute_result"
    }
   ],
   "source": [
    "%%sql \n",
    "\n",
    "/* drop table if exists Faculties;\n",
    "\n",
    "CREATE TABLE Faculties\n",
    "(\n",
    "id integer primary key,\n",
    "name varchar(50)\n",
    ");\n",
    "\n",
    "drop table if exists Groups; \n",
    "\n",
    "CREATE TABLE Groups\n",
    "(\n",
    "id integer primary key,\n",
    "name varchar(50)\n",
    ");\n",
    "\n",
    "drop table if exists Cities; \n",
    "\n",
    "CREATE TABLE Cities\n",
    "(\n",
    "id integer primary key,\n",
    "name varchar(50)\n",
    ");\n",
    "\n",
    "drop table if exists Students;\n",
    "\n",
    "CREATE TABLE Students\n",
    "( \n",
    "    student_id integer primary key, \n",
    "    Name varchar(50),\n",
    "    SecondName varchar(50), \n",
    "    Faculty_id integer,\n",
    "    city_id integer,\n",
    "    group_id integer,\n",
    "    GPA number,\n",
    "    foreign key (student_id) references Faculties(id),\n",
    "    foreign key (student_id) references Groups(id),\n",
    "    foreign key (student_id) references Cities(id)\n",
    "); */"
   ]
  },
  {
   "cell_type": "code",
   "execution_count": 10,
   "metadata": {},
   "outputs": [
    {
     "name": "stdout",
     "output_type": "stream",
     "text": [
      "Done.\n",
      "Done.\n",
      "Done.\n",
      "Done.\n",
      "Done.\n",
      "Done.\n",
      "Done.\n",
      "Done.\n"
     ]
    },
    {
     "data": {
      "text/plain": [
       "[]"
      ]
     },
     "execution_count": 10,
     "metadata": {},
     "output_type": "execute_result"
    }
   ],
   "source": [
    "%%sql \n",
    "\n",
    "drop table if exists Students_1;\n",
    "drop table if exists Faculties_1;\n",
    "\n",
    "CREATE TABLE Faculties_1\n",
    "(\n",
    "id integer primary key,\n",
    "name varchar(50)\n",
    "); \n",
    "\n",
    "drop table if exists Groups_1; \n",
    "\n",
    "CREATE TABLE Groups_1\n",
    "(\n",
    "id integer primary key,\n",
    "name varchar(50)\n",
    ");    \n",
    "\n",
    "drop table if exists Cities_1; \n",
    "\n",
    "CREATE TABLE Cities_1\n",
    "(\n",
    "id integer primary key,\n",
    "name varchar(50)\n",
    ");  \n",
    "\n",
    "CREATE TABLE Students_1\n",
    "(\n",
    "    student_id integer primary key, \n",
    "    Name varchar(50),\n",
    "    SecondName varchar(50), \n",
    "    Faculty_id integer,\n",
    "    city_id integer,\n",
    "    group_id integer,\n",
    "    GPA integer,\n",
    "    foreign key (Faculty_id) references Faculties_1(id),\n",
    "    foreign key (group_id) references Groups_1(id),\n",
    "    foreign key (city_id) references Cities_1(id)\n",
    ");"
   ]
  },
  {
   "cell_type": "code",
   "execution_count": 8,
   "metadata": {},
   "outputs": [
    {
     "name": "stdout",
     "output_type": "stream",
     "text": [
      "Done.\n"
     ]
    },
    {
     "data": {
      "text/plain": [
       "[]"
      ]
     },
     "execution_count": 8,
     "metadata": {},
     "output_type": "execute_result"
    }
   ],
   "source": [
    "%%sql\n",
    "PRAGMA foreign_keys = ON"
   ]
  },
  {
   "cell_type": "markdown",
   "metadata": {},
   "source": [
    "\n",
    "## Задание 2\n",
    "Осуществить вставку во все таблицы с учетом правил на внешние ключи"
   ]
  },
  {
   "cell_type": "code",
   "execution_count": 11,
   "metadata": {},
   "outputs": [
    {
     "name": "stdout",
     "output_type": "stream",
     "text": [
      "1 rows affected.\n",
      "1 rows affected.\n",
      "1 rows affected.\n",
      "1 rows affected.\n",
      "1 rows affected.\n",
      "1 rows affected.\n",
      "1 rows affected.\n",
      "1 rows affected.\n",
      "1 rows affected.\n",
      "1 rows affected.\n",
      "1 rows affected.\n",
      "1 rows affected.\n",
      "1 rows affected.\n",
      "1 rows affected.\n",
      "1 rows affected.\n"
     ]
    },
    {
     "data": {
      "text/plain": [
       "[]"
      ]
     },
     "execution_count": 11,
     "metadata": {},
     "output_type": "execute_result"
    }
   ],
   "source": [
    "%%sql \n",
    "\n",
    "   \n",
    "    insert into Faculties_1 values(1, \"PIH\");\n",
    "    insert into Faculties_1 values(2, \"IТ\");\n",
    "    insert into Faculties_1 values(3, \"KIB\");\n",
    "    insert into Faculties_1 values(4, \"IТ\");\n",
    "\n",
    "    \n",
    "    insert into Groups_1 values(101, \"A101\");\n",
    "    insert into Groups_1 values(102, \"B102\");\n",
    "    insert into Groups_1 values(103, \"C103\");\n",
    "\n",
    "    \n",
    "    insert into Cities_1 values(1, \"Токио\");\n",
    "    insert into Cities_1 values(2, \"Воронеж\");\n",
    "    insert into Cities_1 values(3, \"Нью-Йорк\");\n",
    "\n",
    "    \n",
    "    insert into Students_1 values(1, \"Султанбек\", 'Юсупов', 2, 1, 101, 4);\n",
    "    insert into Students_1 values(5, \"Рашид\", 'Нуриев', 2, 1, 101, 6);\n",
    "    insert into Students_1 values(2, \"Ашот\", 'Газимагомедов', 2, 2, 103, 21103);\n",
    "    insert into Students_1 values(3, \"Карен\", 'Алиев', 3, 2, 102, 32102);\n",
    "    insert into Students_1 values(4, \"Фархад\", 'Саидов', 1, 3, 101, 5);"
   ]
  },
  {
   "cell_type": "code",
   "execution_count": 5,
   "metadata": {},
   "outputs": [
    {
     "name": "stdout",
     "output_type": "stream",
     "text": [
      "Done.\n"
     ]
    },
    {
     "data": {
      "text/plain": [
       "[]"
      ]
     },
     "execution_count": 5,
     "metadata": {},
     "output_type": "execute_result"
    }
   ],
   "source": [
    "%%sql \n",
    "PRAGMA foreign_keys = ON"
   ]
  },
  {
   "cell_type": "markdown",
   "metadata": {},
   "source": [
    "## Задание 3\n",
    "Вывести Имя Студента, Название его факультета, группы и города проживания"
   ]
  },
  {
   "cell_type": "code",
   "execution_count": 12,
   "metadata": {},
   "outputs": [
    {
     "name": "stdout",
     "output_type": "stream",
     "text": [
      "Done.\n"
     ]
    },
    {
     "data": {
      "text/html": [
       "<table>\n",
       "    <tr>\n",
       "        <th>Name</th>\n",
       "        <th>faculty</th>\n",
       "        <th>city</th>\n",
       "        <th>group</th>\n",
       "    </tr>\n",
       "    <tr>\n",
       "        <td>Султанбек</td>\n",
       "        <td>IТ</td>\n",
       "        <td>Токио</td>\n",
       "        <td>A101</td>\n",
       "    </tr>\n",
       "    <tr>\n",
       "        <td>Ашот</td>\n",
       "        <td>IТ</td>\n",
       "        <td>Воронеж</td>\n",
       "        <td>C103</td>\n",
       "    </tr>\n",
       "    <tr>\n",
       "        <td>Карен</td>\n",
       "        <td>KIB</td>\n",
       "        <td>Воронеж</td>\n",
       "        <td>B102</td>\n",
       "    </tr>\n",
       "    <tr>\n",
       "        <td>Фархад</td>\n",
       "        <td>PIH</td>\n",
       "        <td>Нью-Йорк</td>\n",
       "        <td>A101</td>\n",
       "    </tr>\n",
       "    <tr>\n",
       "        <td>Рашид</td>\n",
       "        <td>IТ</td>\n",
       "        <td>Токио</td>\n",
       "        <td>A101</td>\n",
       "    </tr>\n",
       "</table>"
      ],
      "text/plain": [
       "[('Султанбек', 'IТ', 'Токио', 'A101'),\n",
       " ('Ашот', 'IТ', 'Воронеж', 'C103'),\n",
       " ('Карен', 'KIB', 'Воронеж', 'B102'),\n",
       " ('Фархад', 'PIH', 'Нью-Йорк', 'A101'),\n",
       " ('Рашид', 'IТ', 'Токио', 'A101')]"
      ]
     },
     "execution_count": 12,
     "metadata": {},
     "output_type": "execute_result"
    }
   ],
   "source": [
    "%%sql\n",
    "select s.Name, f.name faculty, c.name city, g.name as \"group\"\n",
    "from students_1 s \n",
    "JOIN faculties_1 f, cities_1 c, groups_1 g \n",
    "ON s.faculty_id=f.id and s.city_id=c.id and s.group_id=g.id;"
   ]
  },
  {
   "cell_type": "markdown",
   "metadata": {},
   "source": [
    "## Задание 4\n",
    "Вывести имена всех студентов, обучающихся на факультет IT из Воронежа."
   ]
  },
  {
   "cell_type": "code",
   "execution_count": 13,
   "metadata": {},
   "outputs": [
    {
     "name": "stdout",
     "output_type": "stream",
     "text": [
      "Done.\n"
     ]
    },
    {
     "data": {
      "text/html": [
       "<table>\n",
       "    <tr>\n",
       "        <th>Name</th>\n",
       "        <th>faculty</th>\n",
       "        <th>city</th>\n",
       "        <th>group</th>\n",
       "    </tr>\n",
       "    <tr>\n",
       "        <td>Ашот</td>\n",
       "        <td>IТ</td>\n",
       "        <td>Воронеж</td>\n",
       "        <td>C103</td>\n",
       "    </tr>\n",
       "</table>"
      ],
      "text/plain": [
       "[('Ашот', 'IТ', 'Воронеж', 'C103')]"
      ]
     },
     "execution_count": 13,
     "metadata": {},
     "output_type": "execute_result"
    }
   ],
   "source": [
    "%%sql\n",
    "select s.Name   , f.name faculty, c.name city, g.name as \"group\"\n",
    "from students_1 s \n",
    "JOIN faculties_1 f, cities_1 c, groups_1 g \n",
    "ON s.faculty_id=f.id and s.city_id=c.id and s.group_id=g.id\n",
    "WHERE f.name = \"IТ\" and c.name = \"Воронеж\";"
   ]
  },
  {
   "cell_type": "markdown",
   "metadata": {},
   "source": [
    "## Задание 5\n",
    "Для всевозможных пар (Факультет, Город) вывести количество студентов, соответствующее данной группе"
   ]
  },
  {
   "cell_type": "code",
   "execution_count": 14,
   "metadata": {},
   "outputs": [
    {
     "name": "stdout",
     "output_type": "stream",
     "text": [
      "Done.\n"
     ]
    },
    {
     "data": {
      "text/html": [
       "<table>\n",
       "    <tr>\n",
       "        <th>faculty</th>\n",
       "        <th>city</th>\n",
       "        <th>kolvo_studentov</th>\n",
       "    </tr>\n",
       "    <tr>\n",
       "        <td>PIH</td>\n",
       "        <td>Нью-Йорк</td>\n",
       "        <td>1</td>\n",
       "    </tr>\n",
       "    <tr>\n",
       "        <td>IТ</td>\n",
       "        <td>Токио</td>\n",
       "        <td>2</td>\n",
       "    </tr>\n",
       "    <tr>\n",
       "        <td>IТ</td>\n",
       "        <td>Воронеж</td>\n",
       "        <td>1</td>\n",
       "    </tr>\n",
       "    <tr>\n",
       "        <td>KIB</td>\n",
       "        <td>Воронеж</td>\n",
       "        <td>1</td>\n",
       "    </tr>\n",
       "</table>"
      ],
      "text/plain": [
       "[('PIH', 'Нью-Йорк', 1),\n",
       " ('IТ', 'Токио', 2),\n",
       " ('IТ', 'Воронеж', 1),\n",
       " ('KIB', 'Воронеж', 1)]"
      ]
     },
     "execution_count": 14,
     "metadata": {},
     "output_type": "execute_result"
    }
   ],
   "source": [
    "%%sql\n",
    "select MAX(f.name) faculty, MAX(c.name) city, count(1) as kolvo_studentov -- count(column_name) возвращ количество записей (строк) таблицы.\n",
    "from students_1 s \n",
    "JOIN faculties_1 f, cities_1 c\n",
    "ON s.faculty_id=f.id and s.city_id=c.id\n",
    "GROUP BY f.id, c.id; -- GROUP BY используется для объединения результатов выборки по одному или нескольким столбцам."
   ]
  },
  {
   "cell_type": "code",
   "execution_count": 29,
   "metadata": {},
   "outputs": [
    {
     "name": "stdout",
     "output_type": "stream",
     "text": [
      "Done.\n"
     ]
    },
    {
     "data": {
      "text/html": [
       "<table>\n",
       "    <tr>\n",
       "        <th>faculty</th>\n",
       "        <th>city</th>\n",
       "        <th>group</th>\n",
       "        <th>student_number</th>\n",
       "    </tr>\n",
       "    <tr>\n",
       "        <td>PIH</td>\n",
       "        <td>Нью-Йорк</td>\n",
       "        <td>A101</td>\n",
       "        <td>1</td>\n",
       "    </tr>\n",
       "    <tr>\n",
       "        <td>IТ</td>\n",
       "        <td>Токио</td>\n",
       "        <td>A101</td>\n",
       "        <td>2</td>\n",
       "    </tr>\n",
       "</table>"
      ],
      "text/plain": [
       "[('PIH', 'Нью-Йорк', 'A101', 1), ('IТ', 'Токио', 'A101', 2)]"
      ]
     },
     "execution_count": 29,
     "metadata": {},
     "output_type": "execute_result"
    }
   ],
   "source": [
    "%%sql\n",
    "select MAX(f.name) faculty, MAX(c.name) city, MAX(g.name) as \"group\", count(1) as student_number\n",
    "from students_1 s \n",
    "JOIN faculties_1 f, cities_1 c, groups_1 g \n",
    "ON s.faculty_id=f.id and s.city_id=c.id and s.group_id=g.id\n",
    "where g.name = 'A101'\n",
    "GROUP BY f.id, c.id, g.id;"
   ]
  },
  {
   "cell_type": "markdown",
   "metadata": {},
   "source": [
    "## Задание 6 \n",
    "Для всех групп вывести средний балл по группе для студентов, не проживающих в Москве, при условии, что количество таких студентов не менее 3 "
   ]
  },
  {
   "cell_type": "code",
   "execution_count": null,
   "metadata": {
    "collapsed": true
   },
   "outputs": [],
   "source": [
    "cначала отфильтровать город, потом по среднему баллу, потом хевинг по количеству"
   ]
  },
  {
   "cell_type": "code",
   "execution_count": 39,
   "metadata": {},
   "outputs": [
    {
     "name": "stdout",
     "output_type": "stream",
     "text": [
      "Done.\n"
     ]
    },
    {
     "data": {
      "text/html": [
       "<table>\n",
       "    <tr>\n",
       "        <th>Name</th>\n",
       "        <th>faculty</th>\n",
       "        <th>city</th>\n",
       "        <th>group</th>\n",
       "        <th>GPA</th>\n",
       "    </tr>\n",
       "    <tr>\n",
       "        <td>Султанбек</td>\n",
       "        <td>IТ</td>\n",
       "        <td>Токио</td>\n",
       "        <td>A101</td>\n",
       "        <td>4</td>\n",
       "    </tr>\n",
       "    <tr>\n",
       "        <td>Ашот</td>\n",
       "        <td>IТ</td>\n",
       "        <td>Воронеж</td>\n",
       "        <td>C103</td>\n",
       "        <td>21103</td>\n",
       "    </tr>\n",
       "    <tr>\n",
       "        <td>Карен</td>\n",
       "        <td>KIB</td>\n",
       "        <td>Воронеж</td>\n",
       "        <td>B102</td>\n",
       "        <td>32102</td>\n",
       "    </tr>\n",
       "    <tr>\n",
       "        <td>Фархад</td>\n",
       "        <td>PIH</td>\n",
       "        <td>Нью-Йорк</td>\n",
       "        <td>A101</td>\n",
       "        <td>5</td>\n",
       "    </tr>\n",
       "    <tr>\n",
       "        <td>Рашид</td>\n",
       "        <td>IТ</td>\n",
       "        <td>Токио</td>\n",
       "        <td>A101</td>\n",
       "        <td>6</td>\n",
       "    </tr>\n",
       "</table>"
      ],
      "text/plain": [
       "[('Султанбек', 'IТ', 'Токио', 'A101', 4),\n",
       " ('Ашот', 'IТ', 'Воронеж', 'C103', 21103),\n",
       " ('Карен', 'KIB', 'Воронеж', 'B102', 32102),\n",
       " ('Фархад', 'PIH', 'Нью-Йорк', 'A101', 5),\n",
       " ('Рашид', 'IТ', 'Токио', 'A101', 6)]"
      ]
     },
     "execution_count": 39,
     "metadata": {},
     "output_type": "execute_result"
    }
   ],
   "source": [
    "%%sql\n",
    "select s.Name, f.name faculty, c.name city, g.name as \"group\", s.GPA\n",
    "from students_1 s \n",
    "JOIN faculties_1 f, cities_1 c, groups_1 g \n",
    "ON s.faculty_id=f.id and s.city_id=c.id and s.group_id=g.id\n",
    "WHERE c.name != \"Москва\";"
   ]
  },
  {
   "cell_type": "code",
   "execution_count": 53,
   "metadata": {},
   "outputs": [
    {
     "name": "stdout",
     "output_type": "stream",
     "text": [
      "Done.\n"
     ]
    },
    {
     "data": {
      "text/html": [
       "<table>\n",
       "    <tr>\n",
       "        <th>GPA_avg</th>\n",
       "        <th>city</th>\n",
       "        <th>group</th>\n",
       "        <th>s_count</th>\n",
       "    </tr>\n",
       "    <tr>\n",
       "        <td>5.0</td>\n",
       "        <td>Токио</td>\n",
       "        <td>A101</td>\n",
       "        <td>3</td>\n",
       "    </tr>\n",
       "</table>"
      ],
      "text/plain": [
       "[(5.0, 'Токио', 'A101', 3)]"
      ]
     },
     "execution_count": 53,
     "metadata": {},
     "output_type": "execute_result"
    }
   ],
   "source": [
    "%%sql\n",
    "SELECT AVG(GPA) as GPA_avg , MAX(city) city, MAX(gr) as \"group\", count(p.name) as s_count\n",
    "FROM(\n",
    "    select s.Name, f.name faculty, c.name city, g.name as gr, s.GPA GPA\n",
    "    from students_1 s \n",
    "    JOIN faculties_1 f, cities_1 c, groups_1 g \n",
    "    ON s.faculty_id=f.id and s.city_id=c.id and s.group_id=g.id\n",
    "    WHERE c.name != \"Москва\"\n",
    ") p\n",
    "GROUP BY  p.gr\n",
    "HAVING count(p.name) >= 3 ;"
   ]
  },
  {
   "cell_type": "code",
   "execution_count": null,
   "metadata": {
    "collapsed": true
   },
   "outputs": [],
   "source": []
  }
 ],
 "metadata": {
  "kernelspec": {
   "display_name": "Python 3",
   "language": "python",
   "name": "python3"
  },
  "language_info": {
   "codemirror_mode": {
    "name": "ipython",
    "version": 3
   },
   "file_extension": ".py",
   "mimetype": "text/x-python",
   "name": "python",
   "nbconvert_exporter": "python",
   "pygments_lexer": "ipython3",
   "version": "3.6.2"
  }
 },
 "nbformat": 4,
 "nbformat_minor": 2
}
