{
 "cells": [
  {
   "cell_type": "markdown",
   "metadata": {
    "collapsed": true
   },
   "source": [
    "# Домашнее задание 2 \n",
    "\n",
    "Необходимо реализовать схему, указанную в hw_diagram.pdf \n"
   ]
  },
  {
   "cell_type": "markdown",
   "metadata": {},
   "source": [
    "## Описание таблиц \n",
    "PeopleStatus - Описание возможных статусов людей, которые есть в университете (Студент, Преподаватель).\n",
    "Faculties - Описание факультетов, которые есть в университете (KIB, IT, и т.д.).\n",
    "People - Информация о людях в университете (Имя, почта, ссылка на факультет, ссылка на статус).\n",
    "Classes - Описание возможных классов в университете (название (Математический анализ) и ссылка на факультет).\n",
    "Semesters - Справочник семестров факультета(например, Осень2016, '2016-01-01', '2016-12-31').\n",
    "ClassesSchedule - Расписание классов (ссылки на семестр, преподавателя и курс, день недели, время начала).\n",
    "StudentsSchedule - Таблица, описывающая, какой студент ходит на какой курс."
   ]
  },
  {
   "cell_type": "code",
   "execution_count": 1,
   "metadata": {
    "collapsed": true
   },
   "outputs": [],
   "source": [
    "# Не забудьте настроить соединение"
   ]
  },
  {
   "cell_type": "markdown",
   "metadata": {},
   "source": [
    "## Создание таблиц\n",
    "Напишите ниже скрипты по созданию таблиц с учетом всех внешних ключей."
   ]
  },
  {
   "cell_type": "code",
   "execution_count": 13,
   "metadata": {},
   "outputs": [
    {
     "name": "stdout",
     "output_type": "stream",
     "text": [
      "The sql extension is already loaded. To reload it, use:\n",
      "  %reload_ext sql\n"
     ]
    },
    {
     "data": {
      "text/plain": [
       "'Connected: None@chinook.db'"
      ]
     },
     "execution_count": 13,
     "metadata": {},
     "output_type": "execute_result"
    }
   ],
   "source": [
    "%load_ext sql\n",
    "%sql sqlite:///chinook.db"
   ]
  },
  {
   "cell_type": "code",
   "execution_count": 83,
   "metadata": {},
   "outputs": [
    {
     "name": "stdout",
     "output_type": "stream",
     "text": [
      "Done.\n",
      "Done.\n",
      "Done.\n",
      "Done.\n",
      "Done.\n",
      "Done.\n",
      "Done.\n",
      "Done.\n",
      "Done.\n",
      "Done.\n",
      "Done.\n",
      "Done.\n",
      "Done.\n",
      "Done.\n"
     ]
    },
    {
     "data": {
      "text/plain": [
       "[]"
      ]
     },
     "execution_count": 83,
     "metadata": {},
     "output_type": "execute_result"
    }
   ],
   "source": [
    "%%sql\n",
    "\n",
    "drop table if exists People;\n",
    "\n",
    "CREATE TABLE People\n",
    "(\n",
    "id integer primary key,\n",
    "name varchar(100),\n",
    "email varchar(50),\n",
    "fac_id integer,\n",
    "status_id integer,\n",
    "foreign key (fac_id) references Faculties(id),\n",
    "foreign key (status_id) references PeopleStatus(id) \n",
    "); \n",
    "\n",
    "drop table if exists PeopleStatus;\n",
    "\n",
    "CREATE TABLE PeopleStatus\n",
    "(\n",
    "id integer primary key,\n",
    "name varchar(50)\n",
    "); \n",
    "\n",
    "drop table if exists StudentsSchedule;\n",
    "\n",
    "CREATE TABLE StudentsSchedule\n",
    "(\n",
    "student_id integer,\n",
    "classesschedule_id integer,\n",
    "foreign key (student_id) references People(id),\n",
    "foreign key (classesschedule_id) references ClassesSchedule(id)\n",
    "); \n",
    "\n",
    "drop table if exists Classes;\n",
    "\n",
    "CREATE TABLE Classes\n",
    "(\n",
    "id integer primary key,\n",
    "description varchar(50),\n",
    "fac_id integer,\n",
    "foreign key (fac_id) references Faculties(id)\n",
    "); \n",
    "\n",
    "drop table if exists Faculties;\n",
    "\n",
    "CREATE TABLE Faculties\n",
    "(\n",
    "id integer primary key,\n",
    "name varchar(50)\n",
    "); \n",
    "\n",
    "drop table if exists ClassesSchedule;\n",
    "\n",
    "CREATE TABLE ClassesSchedule\n",
    "(\n",
    "id integer primary key,\n",
    "class_id integer,\n",
    "teacher_id integer,\n",
    "semester_id integer,\n",
    "week_day integer,\n",
    "time_start varchar(50),\n",
    "foreign key (class_id) references Classes(id),\n",
    "foreign key (teacher_id) references People(id),\n",
    "foreign key (semester_id) references Semesters(id)\n",
    "); \n",
    "\n",
    "\n",
    "\n",
    "\n",
    "drop table if exists Semesters;\n",
    "\n",
    "CREATE TABLE Semesters\n",
    "(\n",
    "id integer primary key,\n",
    "shortname varchar(50),\n",
    "date_start date,\n",
    "date_end date\n",
    ");\n",
    "\n",
    "\n"
   ]
  },
  {
   "cell_type": "code",
   "execution_count": 84,
   "metadata": {},
   "outputs": [
    {
     "name": "stdout",
     "output_type": "stream",
     "text": [
      "Done.\n"
     ]
    },
    {
     "data": {
      "text/plain": [
       "[]"
      ]
     },
     "execution_count": 84,
     "metadata": {},
     "output_type": "execute_result"
    }
   ],
   "source": [
    "%%sql\n",
    "PRAGMA foreign_keys = ON"
   ]
  },
  {
   "cell_type": "markdown",
   "metadata": {},
   "source": [
    "## Добавление записей в таблицы\n",
    "Приведите примеры добавления записей в каждую из таблиц\n"
   ]
  },
  {
   "cell_type": "code",
   "execution_count": 85,
   "metadata": {},
   "outputs": [
    {
     "name": "stdout",
     "output_type": "stream",
     "text": [
      "1 rows affected.\n",
      "1 rows affected.\n",
      "1 rows affected.\n",
      "1 rows affected.\n",
      "1 rows affected.\n",
      "1 rows affected.\n",
      "Done.\n",
      "1 rows affected.\n",
      "1 rows affected.\n",
      "1 rows affected.\n",
      "1 rows affected.\n",
      "1 rows affected.\n",
      "1 rows affected.\n",
      "1 rows affected.\n",
      "Done.\n",
      "1 rows affected.\n",
      "1 rows affected.\n",
      "1 rows affected.\n",
      "Done.\n",
      "1 rows affected.\n",
      "1 rows affected.\n",
      "Done.\n",
      "1 rows affected.\n",
      "1 rows affected.\n",
      "1 rows affected.\n",
      "1 rows affected.\n",
      "1 rows affected.\n",
      "1 rows affected.\n",
      "1 rows affected.\n",
      "Done.\n",
      "1 rows affected.\n",
      "1 rows affected.\n",
      "1 rows affected.\n",
      "1 rows affected.\n",
      "1 rows affected.\n",
      "1 rows affected.\n",
      "1 rows affected.\n"
     ]
    },
    {
     "data": {
      "text/plain": [
       "[]"
      ]
     },
     "execution_count": 85,
     "metadata": {},
     "output_type": "execute_result"
    }
   ],
   "source": [
    "%%sql \n",
    "    \n",
    "    insert into PeopleStatus values(1, \"teacher\");\n",
    "    insert into PeopleStatus values(2, \"student\");\n",
    "    \n",
    "    insert into Faculties values(1, \"PIH\");\n",
    "    insert into Faculties values(2, \"IТ\");\n",
    "    insert into Faculties values(3, \"KIB\");\n",
    "    insert into Faculties values(4, \"MIT\");\n",
    "    \n",
    "    -- insert into People values(id, \"name\", \"email\", fac_id, status_id)\n",
    "    insert into People values(1, \"Victor\", \"victorh@gmail.com\", 2, 1);\n",
    "    insert into People values(2, \"Maria\", \"mariat@gmail.com\", 2, 2);\n",
    "    insert into People values(3, \"Billy\", \"billVash@gmail.com\", 3, 1);\n",
    "    insert into People values(4, \"Molly\", \"mollyJ@gmail.com\", 3, 2);\n",
    "    insert into People values(5, \"Jenny\", \"JennyP@gmail.com\", 4, 1);\n",
    "    insert into People values(6, \"Donald\", \"DonaldT@gmail.com\", 4, 2);\n",
    "    insert into People values(7, \"Fedor\", \"FedorF@gmail.com\", 1, 1);\n",
    "    insert into People values(8, \"Adelin\", \"AdelinK@gmail.com\", 1, 2);\n",
    "    \n",
    "\n",
    "       \n",
    "   \n",
    "\n",
    "    -- insert into Classes values(id, \"descript\", fac_id)\n",
    "    insert into Classes values(1, \"Linear algebra\",2 );\n",
    "    insert into Classes values(2, \"Nuclear Biology\",4 );\n",
    "    insert into Classes values(3, \"English History \",1 );\n",
    "    insert into Classes values(4, \"Philosophy\",1 );\n",
    "    \n",
    "        -- insert into Semesters values(id, \"shortname\", date_start, date_end)\n",
    "    insert into Semesters values(1, \"Autumn2016\", '2016-09-01', '2016-11-31');\n",
    "    insert into Semesters values(2, \"Winter2016\", '2016-12-01', '2017-02-28');\n",
    "    insert into Semesters values(3, \"Spring2016\", '2017-03-01', '2016-05-31');\n",
    "    \n",
    "    -- insert into ClassesSchedule values(id, class_id, teacher_id, semester_id, week_day, time_start)\n",
    "    insert into ClassesSchedule values(1, 1, 1, 1, 1, \"14:30\");\n",
    "    insert into ClassesSchedule values(2, 1, 2, 1, 1, \"14:30\");\n",
    "    insert into ClassesSchedule values(3, 2, 3, 1, 3, \"10:30\");\n",
    "    insert into ClassesSchedule values(4, 2, 4, 1, 3, \"10:30\");\n",
    "    insert into ClassesSchedule values(5, 3, 5, 2, 4, \"9:00\");\n",
    "    insert into ClassesSchedule values(6, 3, 6, 2, 4, \"9:00\");\n",
    "    insert into ClassesSchedule values(7, 4, 4, 3, 2, \"14:30\");\n",
    "    insert into ClassesSchedule values(8, 4, 8, 3, 2, \"14:30\");\n",
    "    \n",
    " -- insert into StudentsSchedule values(student_id, classesschedule_id)\n",
    "    insert into StudentsSchedule values(1,2);\n",
    "    insert into StudentsSchedule values(2,1);\n",
    "    insert into StudentsSchedule values(3,4);\n",
    "    insert into StudentsSchedule values(4,3);\n",
    "    insert into StudentsSchedule values(5,6);\n",
    "    insert into StudentsSchedule values(6,5);\n",
    "    insert into StudentsSchedule values(7,8);\n",
    "    insert into StudentsSchedule values(8,7);"
   ]
  },
  {
   "cell_type": "code",
   "execution_count": null,
   "metadata": {
    "collapsed": true
   },
   "outputs": [],
   "source": []
  }
 ],
 "metadata": {
  "kernelspec": {
   "display_name": "Python 3",
   "language": "python",
   "name": "python3"
  },
  "language_info": {
   "codemirror_mode": {
    "name": "ipython",
    "version": 3
   },
   "file_extension": ".py",
   "mimetype": "text/x-python",
   "name": "python",
   "nbconvert_exporter": "python",
   "pygments_lexer": "ipython3",
   "version": "3.6.2"
  }
 },
 "nbformat": 4,
 "nbformat_minor": 2
}
